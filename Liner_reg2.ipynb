{
 "cells": [
  {
   "cell_type": "code",
   "execution_count": 1,
   "metadata": {},
   "outputs": [],
   "source": [
    "#import packages\n",
    "import pandas as pd\n",
    "import numpy as np\n",
    "import matplotlib.pyplot as plt\n",
    "import pandas as pd\n",
    "from sklearn.linear_model import LinearRegression\n",
    "from sklearn.metrics import mean_squared_error\n",
    "from sklearn.model_selection import train_test_split\n",
    "import warnings\n",
    "from sys import modules\n",
    "import seaborn as sns\n",
    "from eval_utils import my_stupid_evaluation_function,mean_absolute_error\n",
    "\n",
    "warnings.filterwarnings('ignore')\n",
    "%matplotlib inline"
   ]
  },
  {
   "cell_type": "code",
   "execution_count": 2,
   "metadata": {},
   "outputs": [],
   "source": [
    "#Import Data \n",
    "X_data= pd.read_csv(\"/Users/eranbarlevy/Downloads/Regression_project_raz/data/X.csv\")\n",
    "y_data = pd.read_csv(\"/Users/eranbarlevy/Downloads/Regression_project_raz/data/y.csv\")\n",
    "\n",
    "#Set index\n",
    "X_data = X_data.set_index('id')\n",
    "y_data = y_data.set_index('id')\n",
    "\n",
    "#join\n",
    "df = X_data.join(y_data, on = 'id') "
   ]
  },
  {
   "cell_type": "markdown",
   "metadata": {},
   "source": [
    "יצירת עותק"
   ]
  },
  {
   "cell_type": "code",
   "execution_count": 3,
   "metadata": {},
   "outputs": [
    {
     "name": "stdout",
     "output_type": "stream",
     "text": [
      "(5363, 13)\n",
      "<class 'pandas.core.frame.DataFrame'>\n",
      "Int64Index: 5363 entries, 2477 to 3572\n",
      "Data columns (total 13 columns):\n",
      " #   Column               Non-Null Count  Dtype  \n",
      "---  ------               --------------  -----  \n",
      " 0   Unnamed: 0.1         5363 non-null   int64  \n",
      " 1   Unnamed: 0           5363 non-null   int64  \n",
      " 2   Age                  5359 non-null   float64\n",
      " 3   Gender               5359 non-null   object \n",
      " 4   Education Level      5360 non-null   object \n",
      " 5   Job Title            5361 non-null   object \n",
      " 6   Years of Experience  5360 non-null   float64\n",
      " 7   Country              5363 non-null   object \n",
      " 8   Race                 5363 non-null   object \n",
      " 9   height               5363 non-null   float64\n",
      " 10  weight               5361 non-null   float64\n",
      " 11  professionalism      5360 non-null   float64\n",
      " 12  Salary               5358 non-null   float64\n",
      "dtypes: float64(6), int64(2), object(5)\n",
      "memory usage: 586.6+ KB\n",
      "None\n"
     ]
    }
   ],
   "source": [
    "#Copy\n",
    "#Run this for raw data\n",
    "df = df.copy()\n",
    "\n",
    "#Check data shap\n",
    "print(df.shape)\n",
    "\n",
    "#Columns and type\n",
    "print(df.info())"
   ]
  },
  {
   "cell_type": "code",
   "execution_count": 4,
   "metadata": {},
   "outputs": [
    {
     "name": "stdout",
     "output_type": "stream",
     "text": [
      "(5355, 13)\n",
      "(5355, 11)\n"
     ]
    }
   ],
   "source": [
    "#Drop\n",
    "#Shape after Drop Null\n",
    "df = df.dropna()\n",
    "print(df.shape)\n",
    "\n",
    "#Drop Retendent Columns\n",
    "df = df.drop(['Unnamed: 0.1', 'Unnamed: 0'], axis=1)\n",
    "print(df.shape)"
   ]
  },
  {
   "cell_type": "markdown",
   "metadata": {},
   "source": [
    "חלוקה ושמירה על עקביות"
   ]
  },
  {
   "cell_type": "code",
   "execution_count": 5,
   "metadata": {},
   "outputs": [
    {
     "name": "stdout",
     "output_type": "stream",
     "text": [
      "(4284, 11)\n",
      "(1071, 11)\n"
     ]
    }
   ],
   "source": [
    "df_train, df_test = train_test_split(df, random_state=1, test_size=0.2)\n",
    "print(df_train.shape)\n",
    "print(df_test.shape)"
   ]
  },
  {
   "cell_type": "code",
   "execution_count": 54,
   "metadata": {},
   "outputs": [
    {
     "name": "stdout",
     "output_type": "stream",
     "text": [
      "(4284, 6)\n",
      "(1071, 6)\n"
     ]
    },
    {
     "data": {
      "text/html": [
       "<div>\n",
       "<style scoped>\n",
       "    .dataframe tbody tr th:only-of-type {\n",
       "        vertical-align: middle;\n",
       "    }\n",
       "\n",
       "    .dataframe tbody tr th {\n",
       "        vertical-align: top;\n",
       "    }\n",
       "\n",
       "    .dataframe thead th {\n",
       "        text-align: right;\n",
       "    }\n",
       "</style>\n",
       "<table border=\"1\" class=\"dataframe\">\n",
       "  <thead>\n",
       "    <tr style=\"text-align: right;\">\n",
       "      <th></th>\n",
       "      <th>Age</th>\n",
       "      <th>Gender</th>\n",
       "      <th>Education Level</th>\n",
       "      <th>Job Title</th>\n",
       "      <th>Years of Experience</th>\n",
       "      <th>Country</th>\n",
       "      <th>Race</th>\n",
       "      <th>height</th>\n",
       "      <th>weight</th>\n",
       "      <th>professionalism</th>\n",
       "      <th>Salary</th>\n",
       "    </tr>\n",
       "    <tr>\n",
       "      <th>id</th>\n",
       "      <th></th>\n",
       "      <th></th>\n",
       "      <th></th>\n",
       "      <th></th>\n",
       "      <th></th>\n",
       "      <th></th>\n",
       "      <th></th>\n",
       "      <th></th>\n",
       "      <th></th>\n",
       "      <th></th>\n",
       "      <th></th>\n",
       "    </tr>\n",
       "  </thead>\n",
       "  <tbody>\n",
       "    <tr>\n",
       "      <th>2477</th>\n",
       "      <td>52.0</td>\n",
       "      <td>M</td>\n",
       "      <td>bachelor's|degr</td>\n",
       "      <td>back|end|develope</td>\n",
       "      <td>24.0</td>\n",
       "      <td>australi</td>\n",
       "      <td>Asian</td>\n",
       "      <td>1.800316</td>\n",
       "      <td>95.021957</td>\n",
       "      <td>1150.0</td>\n",
       "      <td>175966.0</td>\n",
       "    </tr>\n",
       "    <tr>\n",
       "      <th>76</th>\n",
       "      <td>52.0</td>\n",
       "      <td>F</td>\n",
       "      <td>bachelor</td>\n",
       "      <td>operations|manage</td>\n",
       "      <td>23.0</td>\n",
       "      <td>us</td>\n",
       "      <td>White</td>\n",
       "      <td>2.451414</td>\n",
       "      <td>87.456039</td>\n",
       "      <td>1100.0</td>\n",
       "      <td>160000.0</td>\n",
       "    </tr>\n",
       "    <tr>\n",
       "      <th>64</th>\n",
       "      <td>27.0</td>\n",
       "      <td>M</td>\n",
       "      <td>bachelor</td>\n",
       "      <td>junior|accountan</td>\n",
       "      <td>2.0</td>\n",
       "      <td>australi</td>\n",
       "      <td>Australian</td>\n",
       "      <td>1.917509</td>\n",
       "      <td>56.997108</td>\n",
       "      <td>26.0</td>\n",
       "      <td>35000.0</td>\n",
       "    </tr>\n",
       "    <tr>\n",
       "      <th>924</th>\n",
       "      <td>32.0</td>\n",
       "      <td>M</td>\n",
       "      <td>bachelor</td>\n",
       "      <td>data|analys</td>\n",
       "      <td>11.0</td>\n",
       "      <td>u</td>\n",
       "      <td>Welsh</td>\n",
       "      <td>2.160562</td>\n",
       "      <td>61.403169</td>\n",
       "      <td>279.0</td>\n",
       "      <td>195000.0</td>\n",
       "    </tr>\n",
       "    <tr>\n",
       "      <th>242</th>\n",
       "      <td>39.0</td>\n",
       "      <td>F</td>\n",
       "      <td>bachelor</td>\n",
       "      <td>senior|product|manage</td>\n",
       "      <td>11.0</td>\n",
       "      <td>chin</td>\n",
       "      <td>Korean</td>\n",
       "      <td>1.794105</td>\n",
       "      <td>72.049210</td>\n",
       "      <td>380.0</td>\n",
       "      <td>120000.0</td>\n",
       "    </tr>\n",
       "  </tbody>\n",
       "</table>\n",
       "</div>"
      ],
      "text/plain": [
       "       Age Gender  Education Level              Job Title  \\\n",
       "id                                                          \n",
       "2477  52.0      M  bachelor's|degr      back|end|develope   \n",
       "76    52.0      F         bachelor      operations|manage   \n",
       "64    27.0      M         bachelor       junior|accountan   \n",
       "924   32.0      M         bachelor            data|analys   \n",
       "242   39.0      F         bachelor  senior|product|manage   \n",
       "\n",
       "      Years of Experience   Country        Race    height     weight  \\\n",
       "id                                                                     \n",
       "2477                 24.0  australi       Asian  1.800316  95.021957   \n",
       "76                   23.0        us       White  2.451414  87.456039   \n",
       "64                    2.0  australi  Australian  1.917509  56.997108   \n",
       "924                  11.0         u       Welsh  2.160562  61.403169   \n",
       "242                  11.0      chin      Korean  1.794105  72.049210   \n",
       "\n",
       "      professionalism    Salary  \n",
       "id                               \n",
       "2477           1150.0  175966.0  \n",
       "76             1100.0  160000.0  \n",
       "64               26.0   35000.0  \n",
       "924             279.0  195000.0  \n",
       "242             380.0  120000.0  "
      ]
     },
     "execution_count": 54,
     "metadata": {},
     "output_type": "execute_result"
    }
   ],
   "source": [
    "#Numery\n",
    "df_n = df[['Age','Years of Experience','height','weight','professionalism','Salary']]\n",
    "\n",
    "#Category\n",
    "df_c = df[['Gender',\"Education Level\", \"Job Title\",'Country','Race','Salary']]\n",
    "\n",
    "df_train, df_test = train_test_split(df_n, random_state=1, test_size=0.2)\n",
    "print(df_train.shape)\n",
    "print(df_test.shape)\n",
    "\n",
    "df.head()"
   ]
  },
  {
   "cell_type": "code",
   "execution_count": 28,
   "metadata": {},
   "outputs": [],
   "source": [
    "X_train, y_train = df_train.drop(\"Salary\", axis=1), df_train[\"Salary\"]\n",
    "X_test, y_test = df_test.drop(\"Salary\", axis=1), df_test[\"Salary\"]"
   ]
  },
  {
   "cell_type": "markdown",
   "metadata": {},
   "source": [
    "מחשב משכורת ממוצעת למקצועיות"
   ]
  },
  {
   "cell_type": "code",
   "execution_count": 29,
   "metadata": {},
   "outputs": [],
   "source": [
    "class MyModel:\n",
    "    def __init__ (self, col):\n",
    "        self.col = col\n",
    "\n",
    "    def fit(self, X, y):\n",
    "        \n",
    "        #x and y are the ones from the training set\n",
    "        self.col_salary_mapper_ = y.groupby(X[self.col]).mean().rename(\"Salary_hat\") \n",
    "        self.fallback_salary = y_train.mean()\n",
    "\n",
    "    def predict(self, X):\n",
    "        \"\"\"\"We\"\"\"\n",
    "        out = X.join(self.col_salary_mapper_, on = self.col)\n",
    "        out = out[\"Salary_hat\"]\n",
    "        out = out.fillna(self.fallback_price) #what we didnt predict well will be in fallback price\n",
    "        return out \n",
    "      \n",
    "    \n",
    "    \n"
   ]
  },
  {
   "cell_type": "code",
   "execution_count": 55,
   "metadata": {},
   "outputs": [
    {
     "name": "stdout",
     "output_type": "stream",
     "text": [
      "0.3025210084033613\n"
     ]
    },
    {
     "data": {
      "text/plain": [
       "27171.77864810174"
      ]
     },
     "execution_count": 55,
     "metadata": {},
     "output_type": "execute_result"
    }
   ],
   "source": [
    "reg = MyModel(col = \"Age\")\n",
    "reg.fit(X_train, y_train)\n",
    "y_pred = reg.predict(X_test)\n",
    "my_score = my_stupid_evaluation_function(y_test, y_pred, tolerance = 0.1)\n",
    "print(my_score)\n",
    "mean_absolute_error(y_test, y_pred)"
   ]
  },
  {
   "cell_type": "code",
   "execution_count": null,
   "metadata": {},
   "outputs": [],
   "source": [
    "#Base evaluation funtion\n",
    "#professionalism = 0.4705\n",
    "#Age = 0.3025\n",
    "#Education Level = 0.1970"
   ]
  },
  {
   "cell_type": "code",
   "execution_count": 10,
   "metadata": {},
   "outputs": [
    {
     "data": {
      "text/plain": [
       "professionalism\n",
       "0.0        28446.814286\n",
       "22.0       25000.000000\n",
       "23.0       46481.357143\n",
       "24.0       60350.443038\n",
       "25.0       51587.864078\n",
       "              ...      \n",
       "1710.0    121450.000000\n",
       "1728.0    192480.142857\n",
       "1736.0    197354.000000\n",
       "1881.0    188232.000000\n",
       "2040.0    188651.000000\n",
       "Name: Salary_hat, Length: 265, dtype: float64"
      ]
     },
     "execution_count": 10,
     "metadata": {},
     "output_type": "execute_result"
    }
   ],
   "source": [
    "reg.professionalism_salary_mapper_"
   ]
  },
  {
   "cell_type": "code",
   "execution_count": 11,
   "metadata": {},
   "outputs": [
    {
     "data": {
      "text/plain": [
       "id\n",
       "1639    125882.352941\n",
       "1915    165000.000000\n",
       "1568    121815.161290\n",
       "1475     58270.833333\n",
       "2766    144583.333333\n",
       "            ...      \n",
       "6025     51587.864078\n",
       "5024    114054.642857\n",
       "421     122916.522727\n",
       "4934    111033.844156\n",
       "5067    142236.267857\n",
       "Name: Salary_hat, Length: 1071, dtype: float64"
      ]
     },
     "execution_count": 11,
     "metadata": {},
     "output_type": "execute_result"
    }
   ],
   "source": [
    "y_pred"
   ]
  },
  {
   "cell_type": "code",
   "execution_count": 12,
   "metadata": {},
   "outputs": [
    {
     "data": {
      "text/plain": [
       "id\n",
       "1639    150000.0\n",
       "1915    190000.0\n",
       "1568    140000.0\n",
       "1475     70000.0\n",
       "2766    160000.0\n",
       "          ...   \n",
       "6025     30000.0\n",
       "5024    110000.0\n",
       "421     190000.0\n",
       "4934     80000.0\n",
       "5067     95000.0\n",
       "Name: Salary, Length: 1071, dtype: float64"
      ]
     },
     "execution_count": 12,
     "metadata": {},
     "output_type": "execute_result"
    }
   ],
   "source": [
    "y_test"
   ]
  },
  {
   "cell_type": "markdown",
   "metadata": {},
   "source": [
    "נוודא שהמספרים מסתדרים והמבנים מסתדרים"
   ]
  },
  {
   "cell_type": "code",
   "execution_count": 13,
   "metadata": {},
   "outputs": [
    {
     "data": {
      "text/plain": [
       "0.0"
      ]
     },
     "execution_count": 13,
     "metadata": {},
     "output_type": "execute_result"
    }
   ],
   "source": [
    "y_pred          #1071\n",
    "X_test.shape    #1071\n",
    "(y_test.index == y_pred.index).mean() #mean = 1\n",
    "y_pred.index.duplicated().mean() #duplicated = 0\n"
   ]
  },
  {
   "cell_type": "code",
   "execution_count": 14,
   "metadata": {},
   "outputs": [],
   "source": [
    "from eval_utils import my_stupid_evaluation_function,mean_absolute_error"
   ]
  },
  {
   "cell_type": "code",
   "execution_count": 56,
   "metadata": {},
   "outputs": [
    {
     "name": "stdout",
     "output_type": "stream",
     "text": [
      "0.3025210084033613\n"
     ]
    },
    {
     "data": {
      "text/plain": [
       "27171.77864810174"
      ]
     },
     "execution_count": 56,
     "metadata": {},
     "output_type": "execute_result"
    }
   ],
   "source": [
    "#my_score = my_stupid_evaluation_function(y_test.head(),y_pred.head()) #senety check  expect 0\n",
    "my_score = my_stupid_evaluation_function(y_test, y_pred)\n",
    "print(my_score)\n",
    "\n",
    "mean_absolute_error(y_test, y_pred)\n"
   ]
  },
  {
   "cell_type": "code",
   "execution_count": 57,
   "metadata": {},
   "outputs": [
    {
     "data": {
      "text/plain": [
       "0"
      ]
     },
     "execution_count": 57,
     "metadata": {},
     "output_type": "execute_result"
    }
   ],
   "source": [
    "#Error\n",
    "#def my_stupid_evaluation(y_test, y_pred):\n",
    "#    strikes = 0\n",
    "#    for i in range(len(y_test)):\n",
    "#       differnce = abs(y_test[i]-y_pred[i])/y_test[i]\n",
    "#       if differnce > 0.1:\n",
    "#            strikes +=1\n",
    "#    return strikes/len(y_test) \n",
    "\n",
    "#my_stupid_evaluation(y_test, y_pred)\n",
    "\n",
    "#Nan problem\n",
    "#mean_squared_error(y_test, y_pred)\n",
    "\n",
    "y_pred.isna().sum()"
   ]
  },
  {
   "cell_type": "code",
   "execution_count": null,
   "metadata": {},
   "outputs": [
    {
     "data": {
      "text/plain": [
       "0.3333333333333333"
      ]
     },
     "execution_count": 25,
     "metadata": {},
     "output_type": "execute_result"
    }
   ],
   "source": [
    "#Example All works\n",
    "y_predd = np.array([1,2,4])\n",
    "y_testt = np.array([1,2,3])\n",
    "#my_stupid_evaluation(y_testt, y_predd)\n",
    "#my_stupid_evaluation_function(y_testt, y_predd)\n",
    "mean_squared_error(y_testt, y_predd)\n"
   ]
  },
  {
   "cell_type": "code",
   "execution_count": 58,
   "metadata": {},
   "outputs": [
    {
     "data": {
      "text/plain": [
       "{11.5, 33.0, 352.0, 832.0, 882.0, 935.0, 1040.0, 1173.0, 1175.0}"
      ]
     },
     "execution_count": 58,
     "metadata": {},
     "output_type": "execute_result"
    }
   ],
   "source": [
    "#בודק אם יש את כל הערכים בין טסט לטריין כאשר העמודה היא רציפה\n",
    "#set(X_train[\"professionalism\"]) - set(X_test[\"professionalism\"])\n",
    "set(X_test[\"professionalism\"]) - set(X_train[\"professionalism\"])"
   ]
  },
  {
   "cell_type": "code",
   "execution_count": 59,
   "metadata": {},
   "outputs": [
    {
     "data": {
      "text/html": [
       "<div>\n",
       "<style scoped>\n",
       "    .dataframe tbody tr th:only-of-type {\n",
       "        vertical-align: middle;\n",
       "    }\n",
       "\n",
       "    .dataframe tbody tr th {\n",
       "        vertical-align: top;\n",
       "    }\n",
       "\n",
       "    .dataframe thead th {\n",
       "        text-align: right;\n",
       "    }\n",
       "</style>\n",
       "<table border=\"1\" class=\"dataframe\">\n",
       "  <thead>\n",
       "    <tr style=\"text-align: right;\">\n",
       "      <th></th>\n",
       "      <th>Age</th>\n",
       "      <th>Years of Experience</th>\n",
       "      <th>height</th>\n",
       "      <th>weight</th>\n",
       "      <th>professionalism</th>\n",
       "    </tr>\n",
       "    <tr>\n",
       "      <th>id</th>\n",
       "      <th></th>\n",
       "      <th></th>\n",
       "      <th></th>\n",
       "      <th></th>\n",
       "      <th></th>\n",
       "    </tr>\n",
       "  </thead>\n",
       "  <tbody>\n",
       "    <tr>\n",
       "      <th>4393</th>\n",
       "      <td>35.0</td>\n",
       "      <td>2.0</td>\n",
       "      <td>2.264594</td>\n",
       "      <td>60.369088</td>\n",
       "      <td>33.0</td>\n",
       "    </tr>\n",
       "  </tbody>\n",
       "</table>\n",
       "</div>"
      ],
      "text/plain": [
       "       Age  Years of Experience    height     weight  professionalism\n",
       "id                                                                   \n",
       "4393  35.0                  2.0  2.264594  60.369088             33.0"
      ]
     },
     "execution_count": 59,
     "metadata": {},
     "output_type": "execute_result"
    }
   ],
   "source": [
    "X_test[X_test[\"professionalism\"]==33]"
   ]
  },
  {
   "cell_type": "code",
   "execution_count": 52,
   "metadata": {},
   "outputs": [
    {
     "data": {
      "text/plain": [
       "id\n",
       "4393    130030.923767\n",
       "Name: Salary_hat, dtype: float64"
      ]
     },
     "execution_count": 52,
     "metadata": {},
     "output_type": "execute_result"
    }
   ],
   "source": [
    "#הייתי מצפה ל nan אבל אני כן מקבל ערך\n",
    "some_sample = X_test[X_test[\"professionalism\"]==33.0]\n",
    "reg.predict(some_sample)"
   ]
  },
  {
   "cell_type": "code",
   "execution_count": 62,
   "metadata": {},
   "outputs": [
    {
     "data": {
      "text/plain": [
       "0"
      ]
     },
     "execution_count": 62,
     "metadata": {},
     "output_type": "execute_result"
    }
   ],
   "source": [
    "y_pred.isna().sum()"
   ]
  },
  {
   "cell_type": "code",
   "execution_count": 65,
   "metadata": {},
   "outputs": [
    {
     "data": {
      "text/plain": [
       "35028.46603915748"
      ]
     },
     "execution_count": 65,
     "metadata": {},
     "output_type": "execute_result"
    }
   ],
   "source": [
    "from sklearn.metrics import mean_squared_error\n",
    "mse = mean_squared_error(y_test, y_pred) #1226993433.0564091\n",
    "rmse = mean_squared_error(y_test, y_pred, squared=False) #35028.46603915748\n",
    "rmse"
   ]
  }
 ],
 "metadata": {
  "kernelspec": {
   "display_name": "base",
   "language": "python",
   "name": "python3"
  },
  "language_info": {
   "codemirror_mode": {
    "name": "ipython",
    "version": 3
   },
   "file_extension": ".py",
   "mimetype": "text/x-python",
   "name": "python",
   "nbconvert_exporter": "python",
   "pygments_lexer": "ipython3",
   "version": "3.11.3"
  },
  "orig_nbformat": 4
 },
 "nbformat": 4,
 "nbformat_minor": 2
}
